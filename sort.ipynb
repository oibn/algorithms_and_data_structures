{
 "cells": [
  {
   "cell_type": "markdown",
   "metadata": {},
   "source": [
    "# Сортировка\n",
    "## Постановка\n",
    "Из имеющейся неупорядоченной последовательности $ a_1, ..., a_n $ получить упорядоченную (по неубыванию) перестановку $ a_1', ..., a_n' $."
   ]
  },
  {
   "cell_type": "markdown",
   "metadata": {},
   "source": [
    "## Сортировка вставками (insertion sort)\n",
    "Начало последовательности поддерживается в отсортированном виде, а первый неотсортированный элемент вставляется в нужное место."
   ]
  },
  {
   "cell_type": "code",
   "execution_count": 1,
   "metadata": {},
   "outputs": [
    {
     "name": "stdout",
     "output_type": "stream",
     "text": [
      "[4, 4, 4, 5, 9]\n"
     ]
    }
   ],
   "source": [
    "def insertion_sort(sequence):\n",
    "    for idx, element in enumerate(sequence[1:]):\n",
    "        while idx >= 0 and sequence[idx] > element:\n",
    "            sequence[idx + 1] = sequence[idx]\n",
    "            idx -= 1\n",
    "        sequence[idx + 1] = element\n",
    "    return sequence\n",
    "\n",
    "# test:\n",
    "not_ordered = [5, 4, 4, 4, 9]\n",
    "print(insertion_sort(not_ordered))  # 4, 4, 4, 5, 9"
   ]
  }
 ],
 "metadata": {
  "kernelspec": {
   "display_name": "Python 3",
   "language": "python",
   "name": "python3"
  },
  "language_info": {
   "codemirror_mode": {
    "name": "ipython",
    "version": 3
   },
   "file_extension": ".py",
   "mimetype": "text/x-python",
   "name": "python",
   "nbconvert_exporter": "python",
   "pygments_lexer": "ipython3",
   "version": "3.6.7"
  }
 },
 "nbformat": 4,
 "nbformat_minor": 2
}
